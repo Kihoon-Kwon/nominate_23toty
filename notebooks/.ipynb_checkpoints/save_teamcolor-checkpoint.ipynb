{
 "cells": [
  {
   "cell_type": "code",
   "execution_count": null,
   "id": "5f09834b",
   "metadata": {},
   "outputs": [],
   "source": []
  },
  {
   "cell_type": "code",
   "execution_count": null,
   "id": "68ccdce6",
   "metadata": {},
   "outputs": [],
   "source": [
    "search1 = driver.find_element(By.CSS_SELECTOR,'#form1 > div.search_panel > div.search_input_detail > div.search_input_detail_teamcolor > div.wrap_teamcolorcategory.selector_wrap > a').click()\n",
    "time.sleep(2)\n",
    "search2 = driver.find_element(By.CSS_SELECTOR,'#form1 > div.search_panel > div.search_input_detail > div.search_input_detail_teamcolor > div.wrap_teamcolorcategory.selector_wrap.active > div > ul > li:nth-child(2) > a').click()\n",
    "time.sleep(2)\n",
    "search3 = driver.find_element(By.CSS_SELECTOR,'#form1 > div.search_panel > div.search_input_detail > div.search_input_detail_teamcolor > div.wrap_teamcolorid.selector_wrap > a').click()\n",
    "time.sleep(2)\n",
    "teamcolor = driver.find_elements(By.CSS_SELECTOR,'#form1 > div.search_panel > div.search_input_detail > div.search_input_detail_teamcolor > div.wrap_teamcolorid.selector_wrap.active > div > ul > li')\n",
    "\n",
    "teamcolor_list=[]\n",
    "for t in teamcolor:\n",
    "    team=t.text\n",
    "    teamcolor_list.append(team)\n",
    "    \n",
    "teamcolor_list = teamcolor_list[1:]\n",
    "\n",
    "time.sleep(2)\n",
    "reset_btn = driver.find_element(By.CSS_SELECTOR,'#form1 > div.search_panel > div.search_input_submit > button.btn_reset').click()\n",
    "\n",
    "while '' in teamcolor_list:\n",
    "    teamcolor_list.remove('')\n",
    "\n",
    "print(teamcolor_list) # 피온4 모든 팀컬러 종류(국가, 클럽 모두 포함)"
   ]
  },
  {
   "cell_type": "code",
   "execution_count": null,
   "id": "0d2d92d5",
   "metadata": {},
   "outputs": [],
   "source": [
    "team_select = input(\"팀명을 입력하세요: \")\n",
    "\n",
    "teamcolor_list.index(team_select)\n",
    "# teamcolor_list[62]"
   ]
  },
  {
   "cell_type": "code",
   "execution_count": null,
   "id": "23b8504b",
   "metadata": {},
   "outputs": [],
   "source": [
    "def scraper(teamcolor,overall=200):\n",
    "    overall_btn = driver.find_element(By.CSS_SELECTOR,'#slider1 > input.max_val.txt_val')\n",
    "    time.sleep(2)\n",
    "    input_teamcolor = driver.find_element(By.CSS_SELECTOR,'#searchTeamColor')\n",
    "    input_teamcolor.clear()\n",
    "    time.sleep(2)\n",
    "    input_teamcolor.send_keys(teamcolor)\n",
    "    time.sleep(2)\n",
    "    overall_btn.clear()\n",
    "    time.sleep(2)\n",
    "    overall_btn.send_keys(overall)\n",
    "    SearchBtn = driver.find_element(By.CSS_SELECTOR,'#form1 > div.search_panel > div.search_input_submit > button.btn_search')\n",
    "    SearchBtn.click()\n",
    "    time.sleep(8)\n",
    "    wrapped_data=driver.find_elements(By.CSS_SELECTOR,'#divPlayerList > div.tr') # 검색된 선수 목록들\n",
    "    for data in wrapped_data:\n",
    "        SeasonAndName = data.find_element(By.CSS_SELECTOR,'div.td.default > div > div.info_top')\n",
    "        time.sleep(2)\n",
    "        divTag = SeasonAndName.find_element(By.CSS_SELECTOR,'div.season > img')\n",
    "        src = divTag.get_attribute('src')\n",
    "        regex = re.compile('{}(.*){}'.format(re.escape('season/'), re.escape('.png')))\n",
    "        text = regex.findall(str(src))\n",
    "        season = text[0] # 시즌\n",
    "        name = SeasonAndName.find_element(By.CSS_SELECTOR,'div.name').text # 이름\n",
    "        pay = data.find_element(By.CSS_SELECTOR,'#divPlayerList > div.tr > div:nth-child(2) > span').text # 급여\n",
    "        data_list = [season,name,int(pay)]\n",
    "        data_total.append(data_list)\n",
    "    print(teamcolor,'선수 데이터 저장 중')"
   ]
  },
  {
   "cell_type": "code",
   "execution_count": null,
   "id": "28772561",
   "metadata": {},
   "outputs": [],
   "source": [
    "def find_allplayers():\n",
    "    for team in teamcolor_list[5:6]:\n",
    "        global data_total\n",
    "        data_total=[]\n",
    "        scraper(team)\n",
    "        while 1:\n",
    "            total_playersdata=driver.find_elements(By.CSS_SELECTOR,'#divPlayerList > div.tr')\n",
    "            if len(total_playersdata)!=200:\n",
    "                break\n",
    "            else:\n",
    "                stats = driver.find_element(By.CSS_SELECTOR,'#divPlayerList > div:nth-child('+str(len(total_playersdata))+') > div.td.default > div > div.info_middle > span > span:nth-child(2)')\n",
    "                time.sleep(3)\n",
    "                scraper(team,stats.text)\n",
    "        print('{} : {} 선수 데이터 저장 완료'.format(teamcolor_list.index(team),team))\n",
    "        print('-----------------------------------------------------------------------')\n",
    "        data_final=[]\n",
    "        for data in data_total:\n",
    "            if data not in data_final:\n",
    "                data_final.append(data)\n",
    "        columns = ['클래스','이름','급여']\n",
    "        players_dataframe = pd.DataFrame(data_final,columns=columns)\n",
    "        players_dataframe.to_csv(\"./teamcolors/\"+team+\".csv\",index=False,encoding='cp949')"
   ]
  },
  {
   "cell_type": "code",
   "execution_count": null,
   "id": "d724759e",
   "metadata": {},
   "outputs": [],
   "source": [
    "find_allplayers()"
   ]
  },
  {
   "cell_type": "code",
   "execution_count": null,
   "id": "45a6c537",
   "metadata": {},
   "outputs": [],
   "source": [
    "driver.quit()"
   ]
  },
  {
   "cell_type": "code",
   "execution_count": null,
   "id": "a0fedea0",
   "metadata": {},
   "outputs": [],
   "source": []
  },
  {
   "cell_type": "code",
   "execution_count": null,
   "id": "1b2b437b",
   "metadata": {},
   "outputs": [],
   "source": []
  },
  {
   "cell_type": "code",
   "execution_count": null,
   "id": "1ad5d4c0",
   "metadata": {},
   "outputs": [],
   "source": []
  },
  {
   "cell_type": "code",
   "execution_count": null,
   "id": "c8bcd368",
   "metadata": {},
   "outputs": [],
   "source": []
  },
  {
   "cell_type": "code",
   "execution_count": null,
   "id": "fba2250e",
   "metadata": {},
   "outputs": [],
   "source": []
  }
 ],
 "metadata": {
  "kernelspec": {
   "display_name": "Python 3 (ipykernel)",
   "language": "python",
   "name": "python3"
  },
  "language_info": {
   "codemirror_mode": {
    "name": "ipython",
    "version": 3
   },
   "file_extension": ".py",
   "mimetype": "text/x-python",
   "name": "python",
   "nbconvert_exporter": "python",
   "pygments_lexer": "ipython3",
   "version": "3.9.7"
  }
 },
 "nbformat": 4,
 "nbformat_minor": 5
}
